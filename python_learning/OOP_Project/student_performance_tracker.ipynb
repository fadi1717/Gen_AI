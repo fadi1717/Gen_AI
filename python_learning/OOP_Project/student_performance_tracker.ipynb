{
 "cells": [
  {
   "cell_type": "code",
   "execution_count": null,
   "metadata": {},
   "outputs": [
    {
     "name": "stdout",
     "output_type": "stream",
     "text": [
      "Enter student details or type 'done' to finish:\n",
      "Student Performance Summary:\n",
      "Student: Minahil, Subjects: Math: 80, Science: 90, English: 70, History: 80, Geography: 90, Computer: 80, Average Score: 81.67, Status: Passing\n",
      "Student: Ali, Subjects: Math: 50, Science: 40, English: 30, History: 20, Geography: 30, Computer: 40, Average Score: 35.00, Status: Needs Improvement\n",
      "Student: Qais, Subjects: Math: 50, Science: 60, English: 40, History: 50, Geography: 60, Computer: 50, Average Score: 51.67, Status: Passing\n",
      "Student: Hassan, Subjects: Math: 50, Science: 60, English: 70, History: 60, Geography: 40, Computer: 60, Average Score: 56.67, Status: Passing\n",
      "\n",
      "Class Average Score: 56.25\n",
      "\n",
      "List of Students:\n",
      "1. Minahil\n",
      "2. Ali\n",
      "3. Qais\n",
      "4. Hassan\n",
      "Student: Minahil, Subjects: Math: 80, Science: 90, English: 70, History: 80, Geography: 90, Computer: 80, Average Score: 81.67, Status: Passing\n"
     ]
    }
   ],
   "source": [
    "import student_performance_tracker\n",
    "\n",
    "tracker = student_performance_tracker.PerformanceTracker()\n",
    "\n",
    "def handle_user_input():\n",
    "    print(\"Enter student details or type 'done' to finish:\")\n",
    "\n",
    "    while True:\n",
    "        student_name = input(\"Student Name: \").strip()\n",
    "        if student_name.lower() == 'done':\n",
    "            break\n",
    "        \n",
    "        if student_name == \"\":\n",
    "            print(\"Student name cannot be empty. Please enter a valid name.\")\n",
    "            continue\n",
    "\n",
    "        scores = []\n",
    "        subjects = ['Math', 'Science', 'English', 'History', 'Geography', 'Computer']\n",
    "\n",
    "        for subject in subjects:\n",
    "            while True:\n",
    "                try:\n",
    "                    score = int(input(f\"Enter score for {subject} (integer only): \"))\n",
    "                    if score < 0 or score > 100:\n",
    "                        print(\"Please enter a score between 0 and 100.\")\n",
    "                        continue\n",
    "                    scores.append(score)\n",
    "                    break\n",
    "                except ValueError:\n",
    "                    print(\"Invalid input. Please enter an integer value for the score.\")\n",
    "\n",
    "        tracker.add_student(student_name, scores)\n",
    "\n",
    "def get_student_data():\n",
    "    print(\"\\nList of Students:\")\n",
    "    student_names = tracker.get_student_names()\n",
    "    if student_names:\n",
    "        for idx, name in enumerate(student_names, 1):\n",
    "            print(f\"{idx}. {name}\")\n",
    "    else:\n",
    "        print(\"No students found.\")\n",
    "        return\n",
    "\n",
    "    try:\n",
    "        student_choice = int(input(\"\\nEnter the number of the student to view their data: \"))\n",
    "        if student_choice < 1 or student_choice > len(student_names):\n",
    "            print(\"Invalid choice.\")\n",
    "        else:\n",
    "            student_name = student_names[student_choice - 1]\n",
    "            student_data = tracker.get_student_data(student_name)\n",
    "            print(student_data)\n",
    "    except ValueError:\n",
    "        print(\"Invalid input. Please enter a valid number.\")\n",
    "\n",
    "handle_user_input()\n",
    "tracker.display_student_performance()\n",
    "if tracker.students:\n",
    "    class_avg = tracker.calculate_class_average()\n",
    "    print(f\"\\nClass Average Score: {class_avg:.2f}\")\n",
    "else:\n",
    "    print(\"No student data to calculate class average.\")\n",
    "get_student_data()\n"
   ]
  },
  {
   "cell_type": "code",
   "execution_count": null,
   "metadata": {},
   "outputs": [
    {
     "name": "stdout",
     "output_type": "stream",
     "text": [
      "\n",
      "List of Students:\n",
      "No students found.\n"
     ]
    }
   ],
   "source": [
    "get_student_data()"
   ]
  },
  {
   "cell_type": "code",
   "execution_count": null,
   "metadata": {},
   "outputs": [],
   "source": []
  }
 ],
 "metadata": {
  "kernelspec": {
   "display_name": "Python 3",
   "language": "python",
   "name": "python3"
  },
  "language_info": {
   "codemirror_mode": {
    "name": "ipython",
    "version": 3
   },
   "file_extension": ".py",
   "mimetype": "text/x-python",
   "name": "python",
   "nbconvert_exporter": "python",
   "pygments_lexer": "ipython3",
   "version": "3.12.4"
  }
 },
 "nbformat": 4,
 "nbformat_minor": 2
}
