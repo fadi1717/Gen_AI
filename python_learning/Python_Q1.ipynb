{
 "cells": [
  {
   "cell_type": "markdown",
   "metadata": {},
   "source": [
    "## Class 4 Aug\n"
   ]
  },
  {
   "cell_type": "code",
   "execution_count": 26,
   "metadata": {},
   "outputs": [
    {
     "name": "stdout",
     "output_type": "stream",
     "text": [
      "My Name is Fahad.\n",
      "I am 31 years old.\n",
      "My height is 5.7.\n"
     ]
    }
   ],
   "source": [
    "#Lecture 1\n",
    "#Permitive Data Types\n",
    "name: str = '   Fahad'\n",
    "age: int =31\n",
    "height: float=5.7\n",
    "married_status: bool=True\n",
    "\n",
    "print(f\"My Name is {name.lstrip()}.\")\n",
    "print(f\"I am {age} years old.\")\n",
    "print(f\"My height is {height}.\")\n",
    "\n",
    "alpha:str #Declaration\n",
    "alpha = \"Alpha's Alpha\" #Initialization\n",
    "#Non Permitive Data Types\n",
    "\n",
    "\n"
   ]
  },
  {
   "cell_type": "markdown",
   "metadata": {},
   "source": [
    "## Class 11 Aug\n"
   ]
  },
  {
   "cell_type": "code",
   "execution_count": 27,
   "metadata": {},
   "outputs": [
    {
     "name": "stdout",
     "output_type": "stream",
     "text": [
      "Removed orange\n",
      "['apple', 'banana', 'carrot', 'cherry', 'date', 'potato', 'tomato']\n",
      "['tomato', 'potato', 'date', 'cherry', 'carrot', 'banana', 'apple']\n"
     ]
    }
   ],
   "source": [
    "fruits: list =['apple','banana','cherry','date']\n",
    "\n",
    "#forward index\n",
    "fruits[0]\n",
    "#reverse index\n",
    "fruits[-2]\n",
    "#Slicing\n",
    "fruits[2:4]\n",
    "fruits[-2:]\n",
    "\n",
    "#Assignment\n",
    "fruits[0]='orange'\n",
    "\n",
    "#List Commands/Attributes\n",
    "\n",
    "#Append\n",
    "fruits.append('apple')\n",
    "\n",
    "#Clear\n",
    "#fruits.clear()\n",
    "\n",
    "#Copy With = operator memory remains same\n",
    "fruits1=fruits.copy()\n",
    "\n",
    "#Count\n",
    "fruits1.count('apple')\n",
    "\n",
    "#Extended\n",
    "fruits1.count('apple')\n",
    "\n",
    "vegetables:list=['onion','carrot','potato','tomato','onion']\n",
    "fruits1.extend(vegetables)\n",
    "\n",
    "#Remove first instant we pass name\n",
    "fruits1.remove('onion')\n",
    "\n",
    "#in Pop we pass location i.e index\n",
    "a=fruits1.pop(0)\n",
    "fruits1.remove('onion')\n",
    "print('Removed',a)\n",
    "\n",
    "#reverse\n",
    "fruits1.reverse()\n",
    "\n",
    "#reverse\n",
    "fruits1.sort()\n",
    "print(fruits1)\n",
    "fruits1.sort(reverse=True)\n",
    "print(fruits1)\n"
   ]
  },
  {
   "cell_type": "markdown",
   "metadata": {},
   "source": [
    "## Class 18 Aug\n"
   ]
  },
  {
   "cell_type": "code",
   "execution_count": 53,
   "metadata": {},
   "outputs": [
    {
     "name": "stdout",
     "output_type": "stream",
     "text": [
      "APPLE onion\n",
      "BANANA potato\n",
      "CARROT tomato\n",
      "CHERRY A\n",
      "DATE B\n",
      "2\n",
      "4\n",
      "6\n",
      "8\n"
     ]
    }
   ],
   "source": [
    "fruits:list = ['apple', 'banana', 'carrot', 'cherry', 'date']\n",
    "vegetables:list = ['onion', 'potato', 'tomato', 'A', 'B']\n",
    "\n",
    "\n",
    "for x,y in zip(fruits,vegetables):\n",
    "    print(x.upper(),y)\n",
    "\n",
    "#Range(start(default=0),end,step(default=1))\n",
    "\n",
    "for i in range(2,10,2):\n",
    "    print(i)"
   ]
  },
  {
   "cell_type": "code",
   "execution_count": 71,
   "metadata": {},
   "outputs": [
    {
     "name": "stdout",
     "output_type": "stream",
     "text": [
      "[1, 2, 3, 4, 5]\n",
      "[1, 4, 9, 16, 25]\n",
      "[1, 4, 9, 16, 25]\n"
     ]
    }
   ],
   "source": [
    "#Type Casting \n",
    "    #int\n",
    "    #float\n",
    "    #bool\n",
    "    #str\n",
    "\n",
    "    #list()\n",
    "    #tuple\n",
    "    #dict\n",
    "\n",
    "li:list = list(range(0,11,2))\n",
    "\n",
    "numbers:list=[1,2,3,4,5]\n",
    "\n",
    "squares:list=[]\n",
    "for x in numbers:\n",
    "    x= x**2\n",
    "    squares.append(x)\n",
    "\n",
    "print(numbers)\n",
    "print(squares)\n",
    "\n",
    "squares1 = [x**2 for x in numbers]\n",
    "print(squares1)"
   ]
  },
  {
   "cell_type": "code",
   "execution_count": 74,
   "metadata": {},
   "outputs": [
    {
     "data": {
      "text/plain": [
       "[1, 2, 3, 4, 5]"
      ]
     },
     "execution_count": 74,
     "metadata": {},
     "output_type": "execute_result"
    }
   ],
   "source": [
    "li=[]\n",
    "\n",
    "for i in range(0,5):\n",
    "    li.append(i+1)\n",
    "li    "
   ]
  },
  {
   "cell_type": "code",
   "execution_count": 80,
   "metadata": {},
   "outputs": [
    {
     "name": "stdout",
     "output_type": "stream",
     "text": [
      "['a0', 'a', 'b', 'c', 'd', 'F']\n",
      "Index 0 a0\n",
      "Index 1 a\n",
      "Index 2 b\n",
      "Index 3 c\n",
      "Index 4 d\n",
      "Index 5 F\n",
      "Element a0\n",
      "Element a\n",
      "Element b\n",
      "Element c\n",
      "Element d\n",
      "Element F\n"
     ]
    }
   ],
   "source": [
    "fruits=['a','b','c','d']\n",
    "fruits.append('F')\n",
    "fruits.insert(0,'a0')\n",
    "print(fruits)\n",
    "\n",
    "\n",
    "for i in range(len(fruits)):\n",
    "    print('Index',i,fruits[i])\n",
    "\n",
    "for a in fruits:\n",
    "    print('Element',a)    "
   ]
  },
  {
   "cell_type": "markdown",
   "metadata": {},
   "source": [
    "## Class 25 Aug\n"
   ]
  },
  {
   "cell_type": "code",
   "execution_count": 3,
   "metadata": {},
   "outputs": [
    {
     "name": "stdout",
     "output_type": "stream",
     "text": [
      "60\n",
      "50\n",
      "50\n",
      "50\n",
      "50\n"
     ]
    }
   ],
   "source": [
    "# num1=6\n",
    "# # print(num1)\n",
    "\n",
    "# num1:int= int(input('Enter 1 Number:'))\n",
    "# num2:int= int(input('Enter 2 Number:'))\n",
    "# num3:int= int(input('Enter 3 Number:'))\n",
    "# num4:int= int(input('Enter 5 Number:'))\n",
    "# num5:int= int(input('Enter 5 Number:'))\n",
    "# print(num1)\n",
    "# print(num2)\n",
    "# print(num3)\n",
    "# print(num4)\n",
    "# print(num5)\n",
    "\n",
    "\n"
   ]
  },
  {
   "cell_type": "markdown",
   "metadata": {},
   "source": [
    "Operation Operator\n",
    "#+,-,\\*,/\n",
    "\n",
    "Logical Operator >,<,>=,<=,==,!= ,and, or\n",
    "\n",
    "Membership Operator\n",
    "in, not in\n"
   ]
  },
  {
   "cell_type": "code",
   "execution_count": 12,
   "metadata": {},
   "outputs": [
    {
     "data": {
      "text/plain": [
       "'Apple'"
      ]
     },
     "execution_count": 12,
     "metadata": {},
     "output_type": "execute_result"
    }
   ],
   "source": [
    "fruits=('Apple','Banana','Cherry','Apple')\n",
    "fruits[0]\n",
    "fruits[3]"
   ]
  },
  {
   "cell_type": "code",
   "execution_count": 4,
   "metadata": {},
   "outputs": [
    {
     "name": "stdout",
     "output_type": "stream",
     "text": [
      "Apple\n",
      "Banana\n",
      "Cherry\n"
     ]
    }
   ],
   "source": [
    "for x in fruits:\n",
    "    print(x)"
   ]
  },
  {
   "cell_type": "code",
   "execution_count": 13,
   "metadata": {},
   "outputs": [
    {
     "name": "stdout",
     "output_type": "stream",
     "text": [
      "<class 'list'>\n",
      "<class 'tuple'>\n",
      "<class 'int'>\n"
     ]
    }
   ],
   "source": [
    "#All list methods can be applied except change\n",
    "#Single element does not make a tuple so we use standard of 1 element and ,\n",
    "\n",
    "li = [2]\n",
    "print(type(li))\n",
    "li1 = (2,)\n",
    "print(type(li1))\n",
    "li2 = (2) \n",
    "print(type(li2))"
   ]
  },
  {
   "cell_type": "code",
   "execution_count": 30,
   "metadata": {},
   "outputs": [
    {
     "name": "stdout",
     "output_type": "stream",
     "text": [
      "Cold Day\n"
     ]
    }
   ],
   "source": [
    "#Input are by default string\n",
    "temp = float(input('Enter Temperature:'))\n",
    "\n",
    "if temp > 35:\n",
    "    print('Hot Day')\n",
    "\n",
    "elif temp >= 20 and temp <= 35:\n",
    "    print('Pleasant Day')\n",
    "else:\n",
    "    print('Cold Day')\n",
    "\n",
    "#print(type(marks))"
   ]
  },
  {
   "cell_type": "code",
   "execution_count": 2,
   "metadata": {},
   "outputs": [
    {
     "name": "stdout",
     "output_type": "stream",
     "text": [
      "Sum of 50 and 35 is 85\n"
     ]
    }
   ],
   "source": [
    "num1:int= int(input('Enter 1 Number:'))\n",
    "num2:int= int(input('Enter 2 Number:'))\n",
    "ans=num1+num2\n",
    "print(f'Sum of {num1} and {num2} is {ans}')"
   ]
  },
  {
   "cell_type": "code",
   "execution_count": 3,
   "metadata": {},
   "outputs": [
    {
     "name": "stdout",
     "output_type": "stream",
     "text": [
      "My favorite animal is also Cow\n"
     ]
    }
   ],
   "source": [
    "animal:str= str(input('What is your favorite animal?'))\n",
    "print(f'My favorite animal is also {animal}!')\n"
   ]
  },
  {
   "cell_type": "code",
   "execution_count": 6,
   "metadata": {},
   "outputs": [
    {
     "name": "stdout",
     "output_type": "stream",
     "text": [
      "Temperature in Celsius is 23.88888888888889C\n"
     ]
    }
   ],
   "source": [
    "temp_f :float=float(input('Enter Temperature in Fahrenheit :'))\n",
    "temp_c=(temp_f-32)*5/9\n",
    "print(f'Temperature in Celsius is {temp_c}C')\n",
    "\n"
   ]
  },
  {
   "cell_type": "code",
   "execution_count": 8,
   "metadata": {},
   "outputs": [
    {
     "name": "stdout",
     "output_type": "stream",
     "text": [
      "The perimeter of the triangle is 21.0\n"
     ]
    }
   ],
   "source": [
    "len1 = float(input(\"What is len of side 1?\"))\n",
    "len2 = float(input(\"What is len of side 2?\"))\n",
    "len3 = float(input(\"What is len of side 3?\"))\n",
    "perimeter=float(len1+len2+len3)\n",
    "print(f'The perimeter of the triangle is {perimeter}')\n",
    "\n"
   ]
  },
  {
   "cell_type": "code",
   "execution_count": 9,
   "metadata": {},
   "outputs": [
    {
     "name": "stdout",
     "output_type": "stream",
     "text": [
      "5.0 squared is 25.0\n"
     ]
    }
   ],
   "source": [
    "num1=float(input('Type a number to see its square:'))\n",
    "sq_num1=num1**2\n",
    "print(f'{num1} squared is {sq_num1}')"
   ]
  },
  {
   "cell_type": "code",
   "execution_count": null,
   "metadata": {},
   "outputs": [],
   "source": []
  },
  {
   "cell_type": "code",
   "execution_count": null,
   "metadata": {},
   "outputs": [],
   "source": []
  }
 ],
 "metadata": {
  "kernelspec": {
   "display_name": "Python 3",
   "language": "python",
   "name": "python3"
  },
  "language_info": {
   "codemirror_mode": {
    "name": "ipython",
    "version": 3
   },
   "file_extension": ".py",
   "mimetype": "text/x-python",
   "name": "python",
   "nbconvert_exporter": "python",
   "pygments_lexer": "ipython3",
   "version": "3.12.4"
  }
 },
 "nbformat": 4,
 "nbformat_minor": 2
}
