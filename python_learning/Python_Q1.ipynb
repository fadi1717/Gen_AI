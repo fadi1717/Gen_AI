{
 "cells": [
  {
   "cell_type": "markdown",
   "metadata": {},
   "source": [
    "## Class 4 Aug\n"
   ]
  },
  {
   "cell_type": "code",
   "execution_count": 26,
   "metadata": {},
   "outputs": [
    {
     "name": "stdout",
     "output_type": "stream",
     "text": [
      "My Name is Fahad.\n",
      "I am 31 years old.\n",
      "My height is 5.7.\n"
     ]
    }
   ],
   "source": [
    "#Lecture 1\n",
    "#Permitive Data Types\n",
    "name: str = '   Fahad'\n",
    "age: int =31\n",
    "height: float=5.7\n",
    "married_status: bool=True\n",
    "\n",
    "print(f\"My Name is {name.lstrip()}.\")\n",
    "print(f\"I am {age} years old.\")\n",
    "print(f\"My height is {height}.\")\n",
    "\n",
    "alpha:str #Declaration\n",
    "alpha = \"Alpha's Alpha\" #Initialization\n",
    "#Non Permitive Data Types\n",
    "\n",
    "\n"
   ]
  },
  {
   "cell_type": "markdown",
   "metadata": {},
   "source": [
    "## Class 11 Aug\n"
   ]
  },
  {
   "cell_type": "code",
   "execution_count": 27,
   "metadata": {},
   "outputs": [
    {
     "name": "stdout",
     "output_type": "stream",
     "text": [
      "Removed orange\n",
      "['apple', 'banana', 'carrot', 'cherry', 'date', 'potato', 'tomato']\n",
      "['tomato', 'potato', 'date', 'cherry', 'carrot', 'banana', 'apple']\n"
     ]
    }
   ],
   "source": [
    "fruits: list =['apple','banana','cherry','date']\n",
    "\n",
    "#forward index\n",
    "fruits[0]\n",
    "#reverse index\n",
    "fruits[-2]\n",
    "#Slicing\n",
    "fruits[2:4]\n",
    "fruits[-2:]\n",
    "\n",
    "#Assignment\n",
    "fruits[0]='orange'\n",
    "\n",
    "#List Commands/Attributes\n",
    "\n",
    "#Append\n",
    "fruits.append('apple')\n",
    "\n",
    "#Clear\n",
    "#fruits.clear()\n",
    "\n",
    "#Copy With = operator memory remains same\n",
    "fruits1=fruits.copy()\n",
    "\n",
    "#Count\n",
    "fruits1.count('apple')\n",
    "\n",
    "#Extended\n",
    "fruits1.count('apple')\n",
    "\n",
    "vegetables:list=['onion','carrot','potato','tomato','onion']\n",
    "fruits1.extend(vegetables)\n",
    "\n",
    "#Remove first instant we pass name\n",
    "fruits1.remove('onion')\n",
    "\n",
    "#in Pop we pass location i.e index\n",
    "a=fruits1.pop(0)\n",
    "fruits1.remove('onion')\n",
    "print('Removed',a)\n",
    "\n",
    "#reverse\n",
    "fruits1.reverse()\n",
    "\n",
    "#reverse\n",
    "fruits1.sort()\n",
    "print(fruits1)\n",
    "fruits1.sort(reverse=True)\n",
    "print(fruits1)\n"
   ]
  },
  {
   "cell_type": "markdown",
   "metadata": {},
   "source": [
    "## Class 18 Aug\n"
   ]
  },
  {
   "cell_type": "code",
   "execution_count": 53,
   "metadata": {},
   "outputs": [
    {
     "name": "stdout",
     "output_type": "stream",
     "text": [
      "APPLE onion\n",
      "BANANA potato\n",
      "CARROT tomato\n",
      "CHERRY A\n",
      "DATE B\n",
      "2\n",
      "4\n",
      "6\n",
      "8\n"
     ]
    }
   ],
   "source": [
    "fruits:list = ['apple', 'banana', 'carrot', 'cherry', 'date']\n",
    "vegetables:list = ['onion', 'potato', 'tomato', 'A', 'B']\n",
    "\n",
    "\n",
    "for x,y in zip(fruits,vegetables):\n",
    "    print(x.upper(),y)\n",
    "\n",
    "#Range(start(default=0),end,step(default=1))\n",
    "\n",
    "for i in range(2,10,2):\n",
    "    print(i)"
   ]
  },
  {
   "cell_type": "code",
   "execution_count": 71,
   "metadata": {},
   "outputs": [
    {
     "name": "stdout",
     "output_type": "stream",
     "text": [
      "[1, 2, 3, 4, 5]\n",
      "[1, 4, 9, 16, 25]\n",
      "[1, 4, 9, 16, 25]\n"
     ]
    }
   ],
   "source": [
    "#Type Casting \n",
    "    #int\n",
    "    #float\n",
    "    #bool\n",
    "    #str\n",
    "\n",
    "    #list()\n",
    "    #tuple\n",
    "    #dict\n",
    "\n",
    "li:list = list(range(0,11,2))\n",
    "\n",
    "numbers:list=[1,2,3,4,5]\n",
    "\n",
    "squares:list=[]\n",
    "for x in numbers:\n",
    "    x= x**2\n",
    "    squares.append(x)\n",
    "\n",
    "print(numbers)\n",
    "print(squares)\n",
    "\n",
    "squares1 = [x**2 for x in numbers]\n",
    "print(squares1)"
   ]
  },
  {
   "cell_type": "code",
   "execution_count": 74,
   "metadata": {},
   "outputs": [
    {
     "data": {
      "text/plain": [
       "[1, 2, 3, 4, 5]"
      ]
     },
     "execution_count": 74,
     "metadata": {},
     "output_type": "execute_result"
    }
   ],
   "source": [
    "li=[]\n",
    "\n",
    "for i in range(0,5):\n",
    "    li.append(i+1)\n",
    "li    "
   ]
  },
  {
   "cell_type": "code",
   "execution_count": 80,
   "metadata": {},
   "outputs": [
    {
     "name": "stdout",
     "output_type": "stream",
     "text": [
      "['a0', 'a', 'b', 'c', 'd', 'F']\n",
      "Index 0 a0\n",
      "Index 1 a\n",
      "Index 2 b\n",
      "Index 3 c\n",
      "Index 4 d\n",
      "Index 5 F\n",
      "Element a0\n",
      "Element a\n",
      "Element b\n",
      "Element c\n",
      "Element d\n",
      "Element F\n"
     ]
    }
   ],
   "source": [
    "fruits=['a','b','c','d']\n",
    "fruits.append('F')\n",
    "fruits.insert(0,'a0')\n",
    "print(fruits)\n",
    "\n",
    "\n",
    "for i in range(len(fruits)):\n",
    "    print('Index',i,fruits[i])\n",
    "\n",
    "for a in fruits:\n",
    "    print('Element',a)    "
   ]
  },
  {
   "cell_type": "markdown",
   "metadata": {},
   "source": [
    "## Class 25 Aug\n"
   ]
  },
  {
   "cell_type": "code",
   "execution_count": 3,
   "metadata": {},
   "outputs": [
    {
     "name": "stdout",
     "output_type": "stream",
     "text": [
      "60\n",
      "50\n",
      "50\n",
      "50\n",
      "50\n"
     ]
    }
   ],
   "source": [
    "# num1=6\n",
    "# # print(num1)\n",
    "\n",
    "# num1:int= int(input('Enter 1 Number:'))\n",
    "# num2:int= int(input('Enter 2 Number:'))\n",
    "# num3:int= int(input('Enter 3 Number:'))\n",
    "# num4:int= int(input('Enter 5 Number:'))\n",
    "# num5:int= int(input('Enter 5 Number:'))\n",
    "# print(num1)\n",
    "# print(num2)\n",
    "# print(num3)\n",
    "# print(num4)\n",
    "# print(num5)\n",
    "\n",
    "\n"
   ]
  },
  {
   "cell_type": "markdown",
   "metadata": {},
   "source": [
    "Operation Operator\n",
    "#+,-,\\*,/\n",
    "\n",
    "Logical Operator >,<,>=,<=,==,!= ,and, or\n",
    "\n",
    "Membership Operator\n",
    "in, not in\n"
   ]
  },
  {
   "cell_type": "code",
   "execution_count": 12,
   "metadata": {},
   "outputs": [
    {
     "data": {
      "text/plain": [
       "'Apple'"
      ]
     },
     "execution_count": 12,
     "metadata": {},
     "output_type": "execute_result"
    }
   ],
   "source": [
    "fruits=('Apple','Banana','Cherry','Apple')\n",
    "fruits[0]\n",
    "fruits[3]"
   ]
  },
  {
   "cell_type": "code",
   "execution_count": 4,
   "metadata": {},
   "outputs": [
    {
     "name": "stdout",
     "output_type": "stream",
     "text": [
      "Apple\n",
      "Banana\n",
      "Cherry\n"
     ]
    }
   ],
   "source": [
    "for x in fruits:\n",
    "    print(x)"
   ]
  },
  {
   "cell_type": "code",
   "execution_count": 13,
   "metadata": {},
   "outputs": [
    {
     "name": "stdout",
     "output_type": "stream",
     "text": [
      "<class 'list'>\n",
      "<class 'tuple'>\n",
      "<class 'int'>\n"
     ]
    }
   ],
   "source": [
    "#All list methods can be applied except change\n",
    "#Single element does not make a tuple so we use standard of 1 element and ,\n",
    "\n",
    "li = [2]\n",
    "print(type(li))\n",
    "li1 = (2,)\n",
    "print(type(li1))\n",
    "li2 = (2) \n",
    "print(type(li2))"
   ]
  },
  {
   "cell_type": "code",
   "execution_count": 30,
   "metadata": {},
   "outputs": [
    {
     "name": "stdout",
     "output_type": "stream",
     "text": [
      "Cold Day\n"
     ]
    }
   ],
   "source": [
    "#Input are by default string\n",
    "temp = float(input('Enter Temperature:'))\n",
    "\n",
    "if temp > 35:\n",
    "    print('Hot Day')\n",
    "\n",
    "elif temp >= 20 and temp <= 35:\n",
    "    print('Pleasant Day')\n",
    "else:\n",
    "    print('Cold Day')\n",
    "\n",
    "#print(type(marks))"
   ]
  },
  {
   "cell_type": "code",
   "execution_count": 2,
   "metadata": {},
   "outputs": [
    {
     "name": "stdout",
     "output_type": "stream",
     "text": [
      "Sum of 50 and 35 is 85\n"
     ]
    }
   ],
   "source": [
    "num1:int= int(input('Enter 1 Number:'))\n",
    "num2:int= int(input('Enter 2 Number:'))\n",
    "ans=num1+num2\n",
    "print(f'Sum of {num1} and {num2} is {ans}')"
   ]
  },
  {
   "cell_type": "code",
   "execution_count": 3,
   "metadata": {},
   "outputs": [
    {
     "name": "stdout",
     "output_type": "stream",
     "text": [
      "My favorite animal is also Cow\n"
     ]
    }
   ],
   "source": [
    "animal:str= str(input('What is your favorite animal?'))\n",
    "print(f'My favorite animal is also {animal}!')\n"
   ]
  },
  {
   "cell_type": "code",
   "execution_count": 6,
   "metadata": {},
   "outputs": [
    {
     "name": "stdout",
     "output_type": "stream",
     "text": [
      "Temperature in Celsius is 23.88888888888889C\n"
     ]
    }
   ],
   "source": [
    "temp_f :float=float(input('Enter Temperature in Fahrenheit :'))\n",
    "temp_c=(temp_f-32)*5/9\n",
    "print(f'Temperature in Celsius is {temp_c}C')\n",
    "\n"
   ]
  },
  {
   "cell_type": "code",
   "execution_count": 8,
   "metadata": {},
   "outputs": [
    {
     "name": "stdout",
     "output_type": "stream",
     "text": [
      "The perimeter of the triangle is 21.0\n"
     ]
    }
   ],
   "source": [
    "len1 = float(input(\"What is len of side 1?\"))\n",
    "len2 = float(input(\"What is len of side 2?\"))\n",
    "len3 = float(input(\"What is len of side 3?\"))\n",
    "perimeter=float(len1+len2+len3)\n",
    "print(f'The perimeter of the triangle is {perimeter}')\n",
    "\n"
   ]
  },
  {
   "cell_type": "code",
   "execution_count": 9,
   "metadata": {},
   "outputs": [
    {
     "name": "stdout",
     "output_type": "stream",
     "text": [
      "5.0 squared is 25.0\n"
     ]
    }
   ],
   "source": [
    "num1=float(input('Type a number to see its square:'))\n",
    "sq_num1=num1**2\n",
    "print(f'{num1} squared is {sq_num1}')"
   ]
  },
  {
   "cell_type": "code",
   "execution_count": 13,
   "metadata": {},
   "outputs": [
    {
     "name": "stdout",
     "output_type": "stream",
     "text": [
      "[1, 2, 4, 5]\n"
     ]
    }
   ],
   "source": [
    "numbers=[1, 2, 3, 4, 5]\n",
    "numbers.remove(3)\n",
    "print(numbers)"
   ]
  },
  {
   "cell_type": "markdown",
   "metadata": {},
   "source": [
    "## Class 1 Sep\n",
    "\n",
    "Revised all lectures python and docker\n"
   ]
  },
  {
   "cell_type": "markdown",
   "metadata": {},
   "source": [
    "## Class 8 Sep\n"
   ]
  },
  {
   "cell_type": "markdown",
   "metadata": {},
   "source": [
    "- list and tuples have consecutive memory location\n",
    "- dict have specified index (Not Consecutive)\n",
    "  - 'A':'Apple' key value pair\n",
    "  - index can be integer or string\n"
   ]
  },
  {
   "cell_type": "code",
   "execution_count": 9,
   "metadata": {},
   "outputs": [
    {
     "name": "stdout",
     "output_type": "stream",
     "text": [
      "{'A': 'Apple', 'B': 'banana', 'C': 'Cherry'}\n"
     ]
    },
    {
     "data": {
      "text/plain": [
       "'Apple'"
      ]
     },
     "execution_count": 9,
     "metadata": {},
     "output_type": "execute_result"
    }
   ],
   "source": [
    "fruits:dict = {'A':'Apple','B':'banana','C':'Cherry'}\n",
    "print(fruits)\n",
    "fruits['A']"
   ]
  },
  {
   "cell_type": "code",
   "execution_count": 72,
   "metadata": {},
   "outputs": [
    {
     "name": "stdout",
     "output_type": "stream",
     "text": [
      "Ali\n",
      "Ali\n",
      "dict_values(['Ali', 'Ahmed', 'Fahad'])\n",
      "dict_items([(1, 'Ali'), (2, 'Ahmed'), (3, 'Fahad')])\n",
      "{1: 'Ali', 2: 'Ahmed', 3: 'Ali'}\n",
      "{1: 'Ali', 2: 'Ahmed'}\n",
      "{1: 'Ali', 2: 'Ahmed', 4: 'Hassan'}\n"
     ]
    }
   ],
   "source": [
    "names:dict = {1:'Ali',2:'Ahmed',3:'Fahad'}\n",
    "print(names[1])\n",
    "print(names.get(1))\n",
    "print(names.values())\n",
    "print(names.items())\n",
    "names[3]='Ali'\n",
    "list(names.items())[0][1]\n",
    "print(names)\n",
    "\n",
    "# Delete Item\n",
    "del names[3]\n",
    "print(names)\n",
    "\n",
    "names.update({4:'Hassan'})\n",
    "\n",
    "print(names)\n"
   ]
  },
  {
   "cell_type": "code",
   "execution_count": 62,
   "metadata": {},
   "outputs": [
    {
     "name": "stdout",
     "output_type": "stream",
     "text": [
      "1\n",
      "2\n",
      "4\n",
      "\n",
      "\n",
      "Ali\n",
      "Ahmed\n",
      "abs\n",
      "\n",
      "\n",
      "(1, 'Ali')\n",
      "(2, 'Ahmed')\n",
      "(4, 'abs')\n",
      "\n",
      "\n",
      "1 : Ali\n",
      "2 : Ahmed\n",
      "4 : abs\n"
     ]
    }
   ],
   "source": [
    "names[4]='abs'\n",
    "#Access index\n",
    "for x in names:\n",
    "    print(x)\n",
    "\n",
    "print('\\n')\n",
    "\n",
    "\n",
    "#Access values\n",
    "for x in names.values():\n",
    "    print(x)    \n",
    "\n",
    "print('\\n')\n",
    "\n",
    "#return object with values and index\n",
    "for x in names.items():\n",
    "    print(x)        \n",
    "\n",
    "print('\\n')\n",
    "\n",
    "for i,x in names.items():\n",
    "    print(f'{i} : {x}')  \n",
    "\n",
    "              "
   ]
  },
  {
   "cell_type": "code",
   "execution_count": 78,
   "metadata": {},
   "outputs": [
    {
     "name": "stdout",
     "output_type": "stream",
     "text": [
      "{'Roll No': [101, 102, 103, 104, 105, 106], 'Name': ['Ali', 'Ahmed', 'Kamran', 'Ahad', 'Atif', 'Awais'], 'Subject': ['OS', 'OOP', 'DSA', 'DB', 'TOA', 'AI']}\n",
      "{'Roll No': [101, 102, 103, 104, 105, 106], 'Name': ['Ali', 'Ahmed', 'Kamran', 'Ahad', 'Atif', 'Awais'], 'Subject': ['OS', 'OOP', 'DSA', 'DB', 'TOA', 'AI']}\n",
      "Atif TOA\n"
     ]
    }
   ],
   "source": [
    "students:dict = {'Roll No' : [101,102,103,104,105],\n",
    "                  'Name' : ['Ali','Ahmed','Kamran','Ahad','Atif'],\n",
    "                  'Subject': ['OS','OOP','DSA','DB','TOA']\n",
    "           }\n",
    "\n",
    "\n",
    "\n",
    "students['Roll No'].append(106)\n",
    "students['Name'].append('Awais')\n",
    "students['Subject'].append('AI')\n",
    "print(students)\n",
    "\n",
    "# index_to_remove = students['Roll No'].index(104)\n",
    "# students['Roll No'].pop(index_to_remove)\n",
    "# students['Name'].pop(index_to_remove)\n",
    "# students['Subject'].pop(index_to_remove)\n",
    "\n",
    "print(students)\n",
    "\n",
    "roll_no_index = students['Roll No'].index(105)\n",
    "name_req = students['Name'][roll_no_index]\n",
    "sub_req = students['Subject'][roll_no_index]\n",
    "\n",
    "\n",
    "print(name_req,sub_req)"
   ]
  },
  {
   "cell_type": "code",
   "execution_count": 64,
   "metadata": {},
   "outputs": [
    {
     "data": {
      "text/plain": [
       "'Atif'"
      ]
     },
     "execution_count": 64,
     "metadata": {},
     "output_type": "execute_result"
    }
   ],
   "source": [
    "students['Name'][-1]"
   ]
  },
  {
   "cell_type": "markdown",
   "metadata": {},
   "source": [
    "## Class 15 Sep\n"
   ]
  },
  {
   "cell_type": "markdown",
   "metadata": {},
   "source": [
    "### Dictionary\n",
    "\n",
    "A dictionary is a collection which is unordered, changeable and indexed. In Pyython dictionaries are written with curly brackets and they have keys and values.\n",
    "\n",
    "dictionaries are mutable, unordered collections of key-value pairs.\n"
   ]
  },
  {
   "cell_type": "code",
   "execution_count": 28,
   "metadata": {},
   "outputs": [
    {
     "name": "stdout",
     "output_type": "stream",
     "text": [
      "{'name': 'Fahad', 'age': 31, 'courses': ['Gen Ai', 'Python', 3]}\n",
      "FAHAD\n",
      "Fahad\n",
      "Nf\n",
      "dict_keys(['name', 'age', 'courses', 'address'])\n",
      "dict_values(['Fahad', 31, ['Gen Ai', 'Python', 3, 'a'], '123 Abc'])\n",
      "dict_items([('name', 'Fahad'), ('age', 31), ('courses', ['Gen Ai', 'Python', 3, 'a']), ('address', '123 Abc')])\n"
     ]
    }
   ],
   "source": [
    "from typing import Dict,Union,Optional\n",
    "my_dict:Dict[str, Union[str, list[str],int]]={'name':'Fahad','age':31,'courses':['Gen Ai','Python',3]}\n",
    "print(my_dict)\n",
    "\n",
    "##Methods\n",
    "\n",
    "print(my_dict['name'].upper())\n",
    "my_dict['courses'].append('a')\n",
    "print(my_dict.get('name'))\n",
    "print(my_dict.get('address','Nf'))\n",
    "my_dict.update({'address':'123 Abc'})\n",
    "print(my_dict.keys())\n",
    "print(my_dict.values())\n",
    "print(my_dict.items())\n",
    "age = my_dict.pop('age')\n",
    "my_dict.update({'age': 26, 'address': '123 Main St'})\n",
    "last_item = my_dict.popitem()\n",
    "\n",
    "#my_dict.clear()\n",
    "#age = my_dict.setdefault('age', 30)\n",
    "\n",
    "#print(my_dict.fromkeys(['name']))\n",
    "#print(my_dict)\n",
    "#The fromkeys() method in Python creates a new dictionary with keys from an iterable and assigns a specified value to each key. If no value is specified, it defaults to None.\n",
    "\n",
    "# my_dict1:Dict[str, Union[str, Optional[list[str]],int]]={'name':'Fahad','age':31,'courses':['Gen Ai','Python',3,None]}\n",
    "# print(my_dict1)\n"
   ]
  },
  {
   "cell_type": "code",
   "execution_count": 25,
   "metadata": {},
   "outputs": [
    {
     "data": {
      "text/plain": [
       "{1: 1, 2: 4, 3: 9, 4: 16}"
      ]
     },
     "execution_count": 25,
     "metadata": {},
     "output_type": "execute_result"
    }
   ],
   "source": [
    "squared_numbers={i:i**2 for i in range(1,5)}\n",
    "squared_numbers"
   ]
  },
  {
   "cell_type": "markdown",
   "metadata": {},
   "source": [
    "# While Loop\n"
   ]
  },
  {
   "cell_type": "markdown",
   "metadata": {},
   "source": [
    "# Moved to Colab\n"
   ]
  },
  {
   "cell_type": "markdown",
   "metadata": {},
   "source": []
  },
  {
   "cell_type": "code",
   "execution_count": 2,
   "metadata": {},
   "outputs": [
    {
     "data": {
      "text/plain": [
       "15"
      ]
     },
     "execution_count": 2,
     "metadata": {},
     "output_type": "execute_result"
    }
   ],
   "source": [
    "add = lambda a,b:a+b\n",
    "add(5,10)"
   ]
  },
  {
   "cell_type": "code",
   "execution_count": null,
   "metadata": {},
   "outputs": [],
   "source": []
  }
 ],
 "metadata": {
  "kernelspec": {
   "display_name": "Python 3",
   "language": "python",
   "name": "python3"
  },
  "language_info": {
   "codemirror_mode": {
    "name": "ipython",
    "version": 3
   },
   "file_extension": ".py",
   "mimetype": "text/x-python",
   "name": "python",
   "nbconvert_exporter": "python",
   "pygments_lexer": "ipython3",
   "version": "3.12.4"
  }
 },
 "nbformat": 4,
 "nbformat_minor": 2
}
