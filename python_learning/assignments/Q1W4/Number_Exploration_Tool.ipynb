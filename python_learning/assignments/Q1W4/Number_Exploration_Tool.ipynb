{
 "cells": [
  {
   "cell_type": "markdown",
   "metadata": {},
   "source": [
    "#### Odd or Even\n",
    "\n",
    "1. If number is divisible by 2 its even else odd\n",
    "\n",
    "#### Prime Number\n",
    "\n",
    "1. To determine if a number is prime, start by ensuring the number is greater than 1.\n",
    "2. If it's 2 or 3, it's prime.\n",
    "3. For numbers greater than 3, first check if the number is divisible by 2 or 3. If it is, the number is not prime.\n",
    "4. Next, calculate the square root of the number and round down to the nearest whole number.\n",
    "5. Check for divisibility by numbers starting from 5 up to the square root of the number.\n",
    "6. Focus on numbers of the form 6k±1 (like 5, 7, 11, etc.). If the number is divisible by any of these, it is not prime.\n",
    "7. If no divisors are found, the number is prime.\n",
    "\n",
    "#### Ex@ample\n",
    "\n",
    "1. 19 is greater than 1.\n",
    "2. 19 is not divisible by 2 (it's odd) and not divisible by 3.\n",
    "3. The square root of 19 is approximately 4.36, so we only need to check divisibility by 5 (since 5 is the only number of the form\n",
    "4. 6k±1 up to 4.36).\n",
    "5. 19 is not divisible by 5.\n",
    "6. Since 19 is not divisible by any number other than 1 and itself, it is a prime number.\n"
   ]
  },
  {
   "cell_type": "code",
   "execution_count": 5,
   "metadata": {},
   "outputs": [
    {
     "name": "stdout",
     "output_type": "stream",
     "text": [
      "\n",
      "Hello, Fahad! Let's explore your favorite numbers:\n",
      "The number 5 is odd.\n",
      "The number 6 is even.\n",
      "The number 5 is odd.\n",
      "The number 5 and its square: (5, 25)\n",
      "The number 6 and its square: (6, 36)\n",
      "The number 5 and its square: (5, 25)\n",
      "\n",
      "Amazing! The sum of your favorite numbers is: 16\n",
      "16 is not a prime number, but it's still an interesting number!\n",
      "\n",
      "Thanks for exploring numbers with me!\n"
     ]
    }
   ],
   "source": [
    "name = input(\"Enter your name: \")\n",
    "print(f\"\\nHello, {name}! Let's explore your favorite numbers:\")\n",
    "\n",
    "\n",
    "\n",
    "numbers = []\n",
    "\n",
    "for nth in [\"first\", \"second\", \"third\"]:\n",
    "    num = int(input(f\"Enter your {nth} favorite number: \"))\n",
    "    numbers.append(num)\n",
    "\n",
    "even_odd_list = []\n",
    "for num in numbers:\n",
    "    if num % 2 == 0:\n",
    "        even_odd_list.append((num, \"even\"))\n",
    "    else:\n",
    "        even_odd_list.append((num, \"odd\"))\n",
    "\n",
    "for num, eo in even_odd_list:\n",
    "    print(f\"The number {num} is {eo}.\")\n",
    "\n",
    "for num in numbers:\n",
    "    square = num ** 2\n",
    "    print(f\"The number {num} and its square: ({num}, {square})\")\n",
    "\n",
    "total_sum = sum(numbers)\n",
    "print(f\"\\nAmazing! The sum of your favorite numbers is: {total_sum}\")\n",
    "\n",
    "is_prime = True\n",
    "if total_sum <= 1:\n",
    "    is_prime = False\n",
    "elif total_sum > 3:\n",
    "    if total_sum % 2 == 0 or total_sum % 3 == 0:\n",
    "        is_prime = False\n",
    "    else:\n",
    "        for i in range(5, int(total_sum ** 0.5) + 1, 6):\n",
    "            if total_sum % i == 0 or total_sum % (i + 2) == 0:\n",
    "                is_prime = False\n",
    "                break\n",
    "\n",
    "if is_prime:\n",
    "    print(f\"Wow, {total_sum} is a prime number!\")\n",
    "else:\n",
    "    print(f\"{total_sum} is not a prime number, but it's still an interesting number!\")\n",
    "\n",
    "print(\"\\nThanks for exploring numbers with me!\")\n"
   ]
  },
  {
   "cell_type": "code",
   "execution_count": 5,
   "metadata": {},
   "outputs": [
    {
     "data": {
      "text/plain": [
       "[(2, 'Even'), (5, 'Odd'), (7, 'Odd')]"
      ]
     },
     "execution_count": 5,
     "metadata": {},
     "output_type": "execute_result"
    }
   ],
   "source": [
    "even_odd_list"
   ]
  },
  {
   "cell_type": "code",
   "execution_count": null,
   "metadata": {},
   "outputs": [],
   "source": []
  }
 ],
 "metadata": {
  "kernelspec": {
   "display_name": "Python 3",
   "language": "python",
   "name": "python3"
  },
  "language_info": {
   "codemirror_mode": {
    "name": "ipython",
    "version": 3
   },
   "file_extension": ".py",
   "mimetype": "text/x-python",
   "name": "python",
   "nbconvert_exporter": "python",
   "pygments_lexer": "ipython3",
   "version": "3.12.4"
  }
 },
 "nbformat": 4,
 "nbformat_minor": 2
}
