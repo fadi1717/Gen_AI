{
 "cells": [
  {
   "cell_type": "code",
   "execution_count": 52,
   "metadata": {},
   "outputs": [
    {
     "name": "stdout",
     "output_type": "stream",
     "text": [
      "Ahemd\n",
      "Musa\n",
      "Faisal\n"
     ]
    }
   ],
   "source": [
    "#Exercise 3-1: Names\n",
    "names :list =['Ahemd','Musa','Faisal']\n",
    "print(names[0])\n",
    "print(names[1])\n",
    "print(names[2])"
   ]
  },
  {
   "cell_type": "code",
   "execution_count": 53,
   "metadata": {},
   "outputs": [
    {
     "name": "stdout",
     "output_type": "stream",
     "text": [
      "I would like to own a Kwasaki MotorCycle.\n",
      "I have white color Car.\n",
      "Bus is a public transport.\n"
     ]
    }
   ],
   "source": [
    "#Exercise 3-3: Your Own List\n",
    "transports:list =['Car','MotorCycle','Bus']\n",
    "print(f'I would like to own a Kwasaki {transports[1]}.')\n",
    "print(f'I have white color {transports[0]}.')\n",
    "print(f'{transports[2]} is a public transport.')"
   ]
  },
  {
   "cell_type": "code",
   "execution_count": 54,
   "metadata": {},
   "outputs": [
    {
     "name": "stdout",
     "output_type": "stream",
     "text": [
      "Dear Ahmed, I would be honored to invite you to dinner.\n",
      "Dear Sara, I would be honored to invite you to dinner.\n",
      "Dear Ali, I would be honored to invite you to dinner.\n"
     ]
    }
   ],
   "source": [
    "#Exercise 3-4: Guest List\n",
    "guests:list = [\"Ahmed\", \"Sara\", \"Ali\"]\n",
    "for guest in guests:\n",
    "    print(f\"Dear {guest}, I would be honored to invite you to dinner.\")"
   ]
  },
  {
   "cell_type": "code",
   "execution_count": 55,
   "metadata": {},
   "outputs": [
    {
     "name": "stdout",
     "output_type": "stream",
     "text": [
      "\n",
      "Unfortunately, Sara cannot make it to the dinner.\n",
      "Dear Ahmed, I would be honored to invite you to dinner.\n",
      "Dear Fatima, I would be honored to invite you to dinner.\n",
      "Dear Ali, I would be honored to invite you to dinner.\n"
     ]
    }
   ],
   "source": [
    "#Exercise 3-5: Changing Guest List\n",
    "cannot_come:str = \"Sara\"\n",
    "print(f\"\\nUnfortunately, {cannot_come} cannot make it to the dinner.\")\n",
    "\n",
    "new_guest:str = \"Fatima\"\n",
    "guests[1] = new_guest\n",
    "\n",
    "for guest in guests:\n",
    "    print(f\"Dear {guest}, I would be honored to invite you to dinner.\")"
   ]
  },
  {
   "cell_type": "code",
   "execution_count": 56,
   "metadata": {},
   "outputs": [
    {
     "name": "stdout",
     "output_type": "stream",
     "text": [
      "['Bilal', 'Ahmed', 'Aisha', 'Fatima', 'Ali', 'Zara']\n"
     ]
    }
   ],
   "source": [
    "#Exercise 3-6: More Guests\n",
    "guests.insert(0, \"Bilal\")  \n",
    "guests.insert(len(guests) // 2, \"Aisha\")  \n",
    "guests.append(\"Zara\")  \n",
    "print(guests)"
   ]
  },
  {
   "cell_type": "code",
   "execution_count": 57,
   "metadata": {},
   "outputs": [
    {
     "name": "stdout",
     "output_type": "stream",
     "text": [
      "\n",
      "We can invite only two people for dinner.\n",
      "Sorry! Zara you cannot be invited\n",
      "Sorry! Ali you cannot be invited\n",
      "Sorry! Fatima you cannot be invited\n",
      "Sorry! Aisha you cannot be invited\n",
      "Remaining Guests List i.e 2 Persons still invited: ['Bilal', 'Ahmed']\n",
      "Dear Bilal, You are invited to dinner\n",
      "Dear Ahmed, You are invited to dinner\n",
      "[]\n"
     ]
    }
   ],
   "source": [
    "#Exercise 3-7: Shrinking Guest List\n",
    "print('\\nWe can invite only two people for dinner.')\n",
    "removed_guest = guests.pop()\n",
    "print(f'Sorry! {removed_guest} you cannot be invited')\n",
    "removed_guest = guests.pop()\n",
    "print(f'Sorry! {removed_guest} you cannot be invited')\n",
    "removed_guest = guests.pop()\n",
    "print(f'Sorry! {removed_guest} you cannot be invited')\n",
    "removed_guest = guests.pop()\n",
    "print(f'Sorry! {removed_guest} you cannot be invited')\n",
    "\n",
    "print('Remaining Guests List i.e 2 Persons still invited:',guests)\n",
    "\n",
    "for guest in guests:\n",
    "    print(f\"Dear {guest}, You are invited to dinner\")\n",
    "\n",
    "del guests[0:2]\n",
    "print(guests)"
   ]
  },
  {
   "cell_type": "code",
   "execution_count": 58,
   "metadata": {},
   "outputs": [
    {
     "name": "stdout",
     "output_type": "stream",
     "text": [
      "Original order:\n",
      "['bdc', 'abc', 'ijk', 'lmn', 'acc']\n",
      "Alphabetical order:\n",
      "['abc', 'acc', 'bdc', 'ijk', 'lmn']\n",
      "Original order \n",
      "['bdc', 'abc', 'ijk', 'lmn', 'acc']\n",
      "Reverse-alphabetical order:\n",
      "['lmn', 'ijk', 'bdc', 'acc', 'abc']\n",
      "Original order (after reverse sorting):\n",
      "['bdc', 'abc', 'ijk', 'lmn', 'acc']\n",
      "\n",
      "Order after reverse():\n",
      "['acc', 'lmn', 'ijk', 'abc', 'bdc']\n",
      "Order after reversing again:\n",
      "['bdc', 'abc', 'ijk', 'lmn', 'acc']\n",
      "\n",
      "Order after sort():\n",
      "['abc', 'acc', 'bdc', 'ijk', 'lmn']\n",
      "\n",
      "Order after sort(reverse=True):\n",
      "['lmn', 'ijk', 'bdc', 'acc', 'abc']\n"
     ]
    }
   ],
   "source": [
    "#Exercise 3-8: Seeing the World\n",
    "places:list = ['bdc','abc','ijk','lmn','acc'] \n",
    "print(\"Original order:\")\n",
    "print(places)\n",
    "print(\"Alphabetical order:\")\n",
    "print(sorted(places))\n",
    "print(\"Original order \")\n",
    "print(places)\n",
    "print(\"Reverse-alphabetical order:\")\n",
    "print(sorted(places, reverse=True))\n",
    "print(\"Original order (after reverse sorting):\")\n",
    "print(places)\n",
    "\n",
    "places.reverse()\n",
    "print(\"\\nOrder after reverse():\")\n",
    "print(places)\n",
    "places.reverse()\n",
    "print(\"Order after reversing again:\")\n",
    "print(places)\n",
    "\n",
    "# Sort the list in alphabetical order\n",
    "places.sort()\n",
    "print(\"\\nOrder after sort():\")\n",
    "print(places)\n",
    "\n",
    "places.sort(reverse=True)\n",
    "print(\"\\nOrder after sort(reverse=True):\")\n",
    "print(places)"
   ]
  },
  {
   "cell_type": "code",
   "execution_count": 59,
   "metadata": {},
   "outputs": [
    {
     "name": "stdout",
     "output_type": "stream",
     "text": [
      "Original list of cities:\n",
      "['Lahore', 'Karachi', 'Islamabad', 'Quetta', 'Peshawar']\n",
      "\n",
      "First city in the list: Lahore\n",
      "Last city in the list: Peshawar\n",
      "\n",
      "List after modifying the second city:\n",
      "['Lahore', 'Multan', 'Islamabad', 'Quetta', 'Peshawar']\n",
      "\n",
      "List after adding a new city at the end:\n",
      "['Lahore', 'Multan', 'Islamabad', 'Quetta', 'Peshawar', 'Faisalabad']\n",
      "\n",
      "List after inserting a new city at the third position:\n",
      "['Lahore', 'Multan', 'Sialkot', 'Islamabad', 'Quetta', 'Peshawar', 'Faisalabad']\n",
      "\n",
      "List after removing 'Quetta':\n",
      "['Lahore', 'Multan', 'Sialkot', 'Islamabad', 'Peshawar', 'Faisalabad']\n",
      "\n",
      "List after popping the last city:\n",
      "['Lahore', 'Multan', 'Sialkot', 'Islamabad', 'Peshawar']\n",
      "Popped city: Faisalabad\n",
      "\n",
      "List after deleting the first city:\n",
      "['Multan', 'Sialkot', 'Islamabad', 'Peshawar']\n",
      "\n",
      "List after sorting in alphabetical order:\n",
      "['Islamabad', 'Multan', 'Peshawar', 'Sialkot']\n",
      "\n",
      "List after sorting in reverse alphabetical order:\n",
      "['Sialkot', 'Peshawar', 'Multan', 'Islamabad']\n",
      "\n",
      "Temporarily sorted list in alphabetical order:\n",
      "['Islamabad', 'Multan', 'Peshawar', 'Sialkot']\n",
      "\n",
      "List after using sorted():\n",
      "['Sialkot', 'Peshawar', 'Multan', 'Islamabad']\n",
      "\n",
      "List after reversing the order:\n",
      "['Islamabad', 'Multan', 'Peshawar', 'Sialkot']\n",
      "\n",
      "Number of cities in the list: 4\n"
     ]
    }
   ],
   "source": [
    "#Exercise 3-9: Every Function\n",
    "cities = [\"Lahore\", \"Karachi\", \"Islamabad\", \"Quetta\", \"Peshawar\"]\n",
    "print(\"Original list of cities:\")\n",
    "print(cities)\n",
    "\n",
    "#Index\n",
    "print(\"\\nFirst city in the list:\", cities[0])\n",
    "print(\"Last city in the list:\", cities[-1])\n",
    "\n",
    "#Modification\n",
    "cities[1] = \"Multan\"\n",
    "print(\"\\nList after modifying the second city:\")\n",
    "print(cities)\n",
    "\n",
    "#append() \n",
    "cities.append(\"Faisalabad\")\n",
    "print(\"\\nList after adding a new city at the end:\")\n",
    "print(cities)\n",
    "\n",
    "# Insert()\n",
    "cities.insert(2, \"Sialkot\")\n",
    "print(\"\\nList after inserting a new city at the third position:\")\n",
    "print(cities)\n",
    "\n",
    "# remove()\n",
    "cities.remove(\"Quetta\")\n",
    "print(\"\\nList after removing 'Quetta':\")\n",
    "print(cities)\n",
    "\n",
    "#pop()\n",
    "popped_city = cities.pop()\n",
    "print(\"\\nList after popping the last city:\")\n",
    "print(cities)\n",
    "print(\"Popped city:\", popped_city)\n",
    "\n",
    "# del\n",
    "del cities[0]\n",
    "print(\"\\nList after deleting the first city:\")\n",
    "print(cities)\n",
    "\n",
    "#sort()\n",
    "cities.sort()\n",
    "print(\"\\nList after sorting in alphabetical order:\")\n",
    "print(cities)\n",
    "\n",
    "# sort(reverse=True)\n",
    "cities.sort(reverse=True)\n",
    "print(\"\\nList after sorting in reverse alphabetical order:\")\n",
    "print(cities)\n",
    "\n",
    "# sorted()\n",
    "print(\"\\nTemporarily sorted list in alphabetical order:\")\n",
    "print(sorted(cities))\n",
    "\n",
    "#sorted()\n",
    "print(\"\\nList after using sorted():\")\n",
    "print(cities)\n",
    "\n",
    "#reverse()\n",
    "cities.reverse()\n",
    "print(\"\\nList after reversing the order:\")\n",
    "print(cities)\n",
    "\n",
    "# len()\n",
    "print(\"\\nNumber of cities in the list:\", len(cities))"
   ]
  },
  {
   "cell_type": "code",
   "execution_count": 60,
   "metadata": {},
   "outputs": [
    {
     "ename": "IndexError",
     "evalue": "list index out of range",
     "output_type": "error",
     "traceback": [
      "\u001b[1;31m---------------------------------------------------------------------------\u001b[0m",
      "\u001b[1;31mIndexError\u001b[0m                                Traceback (most recent call last)",
      "Cell \u001b[1;32mIn[60], line 2\u001b[0m\n\u001b[0;32m      1\u001b[0m \u001b[38;5;66;03m#Exercise 3-10: Intentional Error\u001b[39;00m\n\u001b[1;32m----> 2\u001b[0m \u001b[38;5;28mprint\u001b[39m(\u001b[43mcities\u001b[49m\u001b[43m[\u001b[49m\u001b[38;5;241;43m10\u001b[39;49m\u001b[43m]\u001b[49m)\n",
      "\u001b[1;31mIndexError\u001b[0m: list index out of range"
     ]
    }
   ],
   "source": [
    "#Exercise 3-10: Intentional Error\n",
    "print(cities[10])"
   ]
  },
  {
   "cell_type": "code",
   "execution_count": null,
   "metadata": {},
   "outputs": [],
   "source": []
  }
 ],
 "metadata": {
  "kernelspec": {
   "display_name": "Python 3",
   "language": "python",
   "name": "python3"
  },
  "language_info": {
   "codemirror_mode": {
    "name": "ipython",
    "version": 3
   },
   "file_extension": ".py",
   "mimetype": "text/x-python",
   "name": "python",
   "nbconvert_exporter": "python",
   "pygments_lexer": "ipython3",
   "version": "3.12.4"
  }
 },
 "nbformat": 4,
 "nbformat_minor": 2
}
